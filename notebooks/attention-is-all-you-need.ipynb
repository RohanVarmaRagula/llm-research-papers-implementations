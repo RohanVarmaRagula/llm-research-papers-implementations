{
 "cells": [
  {
   "cell_type": "markdown",
   "metadata": {
    "_cell_guid": "b1076dfc-b9ad-4769-8c92-a6c4dae69d19",
    "_uuid": "8f2839f25d086af736a60e9eeb907d3b93b6e0e5"
   },
   "source": [
    "## Import Dependencies"
   ]
  },
  {
   "cell_type": "code",
   "execution_count": 2,
   "metadata": {
    "execution": {
     "iopub.execute_input": "2025-05-27T15:51:34.955029Z",
     "iopub.status.busy": "2025-05-27T15:51:34.954419Z",
     "iopub.status.idle": "2025-05-27T15:51:47.304929Z",
     "shell.execute_reply": "2025-05-27T15:51:47.304138Z",
     "shell.execute_reply.started": "2025-05-27T15:51:34.954998Z"
    },
    "trusted": true
   },
   "outputs": [
    {
     "data": {
      "text/plain": [
       "<torch._C.Generator at 0x7dded06d4630>"
      ]
     },
     "execution_count": 2,
     "metadata": {},
     "output_type": "execute_result"
    }
   ],
   "source": [
    "import random\n",
    "import math\n",
    "\n",
    "import torch\n",
    "import torch.nn as nn\n",
    "import torch.nn.functional as F\n",
    "import torch.optim as optim\n",
    "\n",
    "from datasets import load_dataset\n",
    "from transformers import AutoTokenizer\n",
    "\n",
    "random.seed(42)\n",
    "torch.manual_seed(42)"
   ]
  },
  {
   "cell_type": "code",
   "execution_count": 3,
   "metadata": {
    "execution": {
     "iopub.execute_input": "2025-05-27T15:51:47.307337Z",
     "iopub.status.busy": "2025-05-27T15:51:47.306690Z",
     "iopub.status.idle": "2025-05-27T15:51:47.314534Z",
     "shell.execute_reply": "2025-05-27T15:51:47.313499Z",
     "shell.execute_reply.started": "2025-05-27T15:51:47.307271Z"
    },
    "trusted": true
   },
   "outputs": [
    {
     "name": "stdout",
     "output_type": "stream",
     "text": [
      "cuda\n"
     ]
    }
   ],
   "source": [
    "seq_len = 64\n",
    "n_data = 100000\n",
    "n_embd = 512\n",
    "vocab_size = 250027 # mentioned later as len(mbart_tokenizer)\n",
    "batch_size = 5\n",
    "n_heads = 8\n",
    "n_layers = 6\n",
    "dropout = 0.1\n",
    "expansion_factor = 4\n",
    "learning_rate = 1e-4\n",
    "epochs = 100\n",
    "device = torch.device('cuda' if torch.cuda.is_available() else 'cpu')\n",
    "print(device)"
   ]
  },
  {
   "cell_type": "markdown",
   "metadata": {},
   "source": [
    "## Load data"
   ]
  },
  {
   "cell_type": "code",
   "execution_count": 4,
   "metadata": {
    "execution": {
     "iopub.execute_input": "2025-05-27T15:51:47.316239Z",
     "iopub.status.busy": "2025-05-27T15:51:47.315542Z",
     "iopub.status.idle": "2025-05-27T15:52:00.385692Z",
     "shell.execute_reply": "2025-05-27T15:52:00.384857Z",
     "shell.execute_reply.started": "2025-05-27T15:51:47.316216Z"
    },
    "trusted": true
   },
   "outputs": [
    {
     "data": {
      "application/vnd.jupyter.widget-view+json": {
       "model_id": "6e167081e6af414ca80fd80586f1c2a9",
       "version_major": 2,
       "version_minor": 0
      },
      "text/plain": [
       "README.md:   0%|          | 0.00/10.5k [00:00<?, ?B/s]"
      ]
     },
     "metadata": {},
     "output_type": "display_data"
    },
    {
     "data": {
      "application/vnd.jupyter.widget-view+json": {
       "model_id": "b6a3d189a9ab414eb1271f981ee8e548",
       "version_major": 2,
       "version_minor": 0
      },
      "text/plain": [
       "train-00000-of-00003.parquet:   0%|          | 0.00/280M [00:00<?, ?B/s]"
      ]
     },
     "metadata": {},
     "output_type": "display_data"
    },
    {
     "data": {
      "application/vnd.jupyter.widget-view+json": {
       "model_id": "bd2ee0f379a94a59a63413bac1924732",
       "version_major": 2,
       "version_minor": 0
      },
      "text/plain": [
       "train-00001-of-00003.parquet:   0%|          | 0.00/265M [00:00<?, ?B/s]"
      ]
     },
     "metadata": {},
     "output_type": "display_data"
    },
    {
     "data": {
      "application/vnd.jupyter.widget-view+json": {
       "model_id": "938418a05a8944cbadbdc10376eb9543",
       "version_major": 2,
       "version_minor": 0
      },
      "text/plain": [
       "train-00002-of-00003.parquet:   0%|          | 0.00/273M [00:00<?, ?B/s]"
      ]
     },
     "metadata": {},
     "output_type": "display_data"
    },
    {
     "data": {
      "application/vnd.jupyter.widget-view+json": {
       "model_id": "7f7a44806b414e148f1fa97b671aa61a",
       "version_major": 2,
       "version_minor": 0
      },
      "text/plain": [
       "validation-00000-of-00001.parquet:   0%|          | 0.00/474k [00:00<?, ?B/s]"
      ]
     },
     "metadata": {},
     "output_type": "display_data"
    },
    {
     "data": {
      "application/vnd.jupyter.widget-view+json": {
       "model_id": "cd7d527d1af341e78afe5539051b516d",
       "version_major": 2,
       "version_minor": 0
      },
      "text/plain": [
       "test-00000-of-00001.parquet:   0%|          | 0.00/509k [00:00<?, ?B/s]"
      ]
     },
     "metadata": {},
     "output_type": "display_data"
    },
    {
     "data": {
      "application/vnd.jupyter.widget-view+json": {
       "model_id": "176e3a228e4c49e588f4f189381f2d9f",
       "version_major": 2,
       "version_minor": 0
      },
      "text/plain": [
       "Generating train split:   0%|          | 0/4508785 [00:00<?, ? examples/s]"
      ]
     },
     "metadata": {},
     "output_type": "display_data"
    },
    {
     "data": {
      "application/vnd.jupyter.widget-view+json": {
       "model_id": "9e86950877a147fca45b5ff0a0494de1",
       "version_major": 2,
       "version_minor": 0
      },
      "text/plain": [
       "Generating validation split:   0%|          | 0/3000 [00:00<?, ? examples/s]"
      ]
     },
     "metadata": {},
     "output_type": "display_data"
    },
    {
     "data": {
      "application/vnd.jupyter.widget-view+json": {
       "model_id": "0b217e9a8a1742719c6fa0af5de51a52",
       "version_major": 2,
       "version_minor": 0
      },
      "text/plain": [
       "Generating test split:   0%|          | 0/3003 [00:00<?, ? examples/s]"
      ]
     },
     "metadata": {},
     "output_type": "display_data"
    },
    {
     "data": {
      "text/plain": [
       "(100000, 3003)"
      ]
     },
     "execution_count": 4,
     "metadata": {},
     "output_type": "execute_result"
    }
   ],
   "source": [
    "dataset = load_dataset(\"wmt/wmt14\", \"de-en\")\n",
    "train = dataset[\"train\"].select(range(n_data))['translation']\n",
    "test = dataset[\"test\"]['translation']\n",
    "len(train), len(test)"
   ]
  },
  {
   "cell_type": "markdown",
   "metadata": {},
   "source": [
    "## Tokenize data\n",
    "Section 5.1 of the paper says:\n",
    "`We trained on the standard WMT 2014 English-German dataset consisting of about 4.5 million\n",
    "sentence pairs. Sentences were encoded using byte-pair encoding [3], which has a shared sourcetarget\n",
    "vocabulary of about 37000 tokens. For English-French, we used the significantly larger WMT\n",
    "2014 English-French dataset consisting of 36M sentences and split tokens into a 32000 word-piece\n",
    "vocabulary [31]. Sentence pairs were batched together by approximate sequence length. Each training\n",
    "batch contained a set of sentence pairs containing approximately 25000 source tokens and 25000\n",
    "target tokens.`\n",
    "The paper, however, do not focus on implementing the tokenizer, so let us use a pre-trained tokenizer from huggingface that uses byte-pair encoding with share source-target vocabulary of about 250k tokens."
   ]
  },
  {
   "cell_type": "code",
   "execution_count": 5,
   "metadata": {
    "execution": {
     "iopub.execute_input": "2025-05-27T15:52:00.388000Z",
     "iopub.status.busy": "2025-05-27T15:52:00.387780Z",
     "iopub.status.idle": "2025-05-27T15:52:03.911315Z",
     "shell.execute_reply": "2025-05-27T15:52:03.910466Z",
     "shell.execute_reply.started": "2025-05-27T15:52:00.387982Z"
    },
    "trusted": true
   },
   "outputs": [
    {
     "data": {
      "application/vnd.jupyter.widget-view+json": {
       "model_id": "c6e8ab82006a451a9fefe7dd91bb3462",
       "version_major": 2,
       "version_minor": 0
      },
      "text/plain": [
       "config.json:   0%|          | 0.00/1.19k [00:00<?, ?B/s]"
      ]
     },
     "metadata": {},
     "output_type": "display_data"
    },
    {
     "data": {
      "application/vnd.jupyter.widget-view+json": {
       "model_id": "6b2c356f209d4f5a8e1f769218824ff6",
       "version_major": 2,
       "version_minor": 0
      },
      "text/plain": [
       "sentencepiece.bpe.model:   0%|          | 0.00/5.07M [00:00<?, ?B/s]"
      ]
     },
     "metadata": {},
     "output_type": "display_data"
    },
    {
     "data": {
      "application/vnd.jupyter.widget-view+json": {
       "model_id": "9065829f479a4d708a8985691c005762",
       "version_major": 2,
       "version_minor": 0
      },
      "text/plain": [
       "tokenizer.json:   0%|          | 0.00/9.10M [00:00<?, ?B/s]"
      ]
     },
     "metadata": {},
     "output_type": "display_data"
    },
    {
     "name": "stdout",
     "output_type": "stream",
     "text": [
      "Vocab size: 250027\n",
      "Source Language: en_XX\n",
      "Target Language: de_DE\n"
     ]
    }
   ],
   "source": [
    "mbart_tokenizer = AutoTokenizer.from_pretrained(\"facebook/mbart-large-cc25\")\n",
    "mbart_tokenizer.src_lang = \"en_XX\"\n",
    "mbart_tokenizer.tgt_lang = \"de_DE\"\n",
    "print(f\"Vocab size: {len(mbart_tokenizer)}\")\n",
    "print(f\"Source Language: {mbart_tokenizer.src_lang}\")\n",
    "print(f\"Target Language: {mbart_tokenizer.tgt_lang}\")"
   ]
  },
  {
   "cell_type": "code",
   "execution_count": 6,
   "metadata": {
    "execution": {
     "iopub.execute_input": "2025-05-27T15:52:03.913052Z",
     "iopub.status.busy": "2025-05-27T15:52:03.912825Z",
     "iopub.status.idle": "2025-05-27T15:52:03.929730Z",
     "shell.execute_reply": "2025-05-27T15:52:03.928961Z",
     "shell.execute_reply.started": "2025-05-27T15:52:03.913036Z"
    },
    "trusted": true
   },
   "outputs": [
    {
     "data": {
      "text/plain": [
       "{'input_ids': tensor([[   853,  71836,   1363,    111,     70,  56002,      2, 250004]]), 'attention_mask': tensor([[1, 1, 1, 1, 1, 1, 1, 1]])}"
      ]
     },
     "execution_count": 6,
     "metadata": {},
     "output_type": "execute_result"
    }
   ],
   "source": [
    "temp_src = train[0][\"en\"]\n",
    "temp_tgt = train[0][\"de\"]\n",
    "input_tokens = mbart_tokenizer(temp_src, return_tensors=\"pt\", padding=True, truncation=True, max_length=seq_len)\n",
    "output_tokens = mbart_tokenizer(temp_tgt, return_tensors=\"pt\", padding=True, truncation=True, max_length=seq_len)\n",
    "input_tokens"
   ]
  },
  {
   "cell_type": "code",
   "execution_count": 7,
   "metadata": {
    "execution": {
     "iopub.execute_input": "2025-05-27T15:52:03.930857Z",
     "iopub.status.busy": "2025-05-27T15:52:03.930588Z",
     "iopub.status.idle": "2025-05-27T15:52:30.145074Z",
     "shell.execute_reply": "2025-05-27T15:52:30.144533Z",
     "shell.execute_reply.started": "2025-05-27T15:52:03.930834Z"
    },
    "trusted": true
   },
   "outputs": [],
   "source": [
    "def tokenize_dataset(data, tokenizer):\n",
    "    german = [x[\"de\"] for x in data] \n",
    "    english = [x[\"en\"] for x in data] \n",
    "\n",
    "    return tokenizer(\n",
    "        english,\n",
    "        text_target=german,\n",
    "        max_length=seq_len,\n",
    "        padding='max_length',\n",
    "        truncation=True,\n",
    "        return_tensors=\"pt\"\n",
    "    )\n",
    "\n",
    "train_tokens = tokenize_dataset(train, mbart_tokenizer)\n",
    "test_tokens = tokenize_dataset(test, mbart_tokenizer)"
   ]
  },
  {
   "cell_type": "code",
   "execution_count": 8,
   "metadata": {
    "execution": {
     "iopub.execute_input": "2025-05-27T15:52:30.145935Z",
     "iopub.status.busy": "2025-05-27T15:52:30.145713Z",
     "iopub.status.idle": "2025-05-27T15:52:30.151102Z",
     "shell.execute_reply": "2025-05-27T15:52:30.150451Z",
     "shell.execute_reply.started": "2025-05-27T15:52:30.145919Z"
    },
    "trusted": true
   },
   "outputs": [
    {
     "data": {
      "text/plain": [
       "torch.Size([100000, 64])"
      ]
     },
     "execution_count": 8,
     "metadata": {},
     "output_type": "execute_result"
    }
   ],
   "source": [
    "train_tokens['input_ids'].shape"
   ]
  },
  {
   "cell_type": "code",
   "execution_count": 9,
   "metadata": {
    "execution": {
     "iopub.execute_input": "2025-05-27T15:52:30.152062Z",
     "iopub.status.busy": "2025-05-27T15:52:30.151785Z",
     "iopub.status.idle": "2025-05-27T15:52:30.169996Z",
     "shell.execute_reply": "2025-05-27T15:52:30.169458Z",
     "shell.execute_reply.started": "2025-05-27T15:52:30.152029Z"
    },
    "trusted": true
   },
   "outputs": [
    {
     "data": {
      "text/plain": [
       "tensor([   853,  71836,   1363,    111,     70,  56002,      2, 250004,      1,\n",
       "             1,      1,      1,      1,      1,      1,      1,      1,      1,\n",
       "             1,      1,      1,      1,      1,      1,      1,      1,      1,\n",
       "             1,      1,      1,      1,      1,      1,      1,      1,      1,\n",
       "             1,      1,      1,      1,      1,      1,      1,      1,      1,\n",
       "             1,      1,      1,      1,      1,      1,      1,      1,      1,\n",
       "             1,      1,      1,      1,      1,      1,      1,      1,      1,\n",
       "             1])"
      ]
     },
     "execution_count": 9,
     "metadata": {},
     "output_type": "execute_result"
    }
   ],
   "source": [
    "train_tokens['input_ids'][0]"
   ]
  },
  {
   "cell_type": "code",
   "execution_count": 10,
   "metadata": {
    "execution": {
     "iopub.execute_input": "2025-05-27T02:47:08.503733Z",
     "iopub.status.busy": "2025-05-27T02:47:08.503444Z",
     "iopub.status.idle": "2025-05-27T02:47:08.509597Z",
     "shell.execute_reply": "2025-05-27T02:47:08.508931Z",
     "shell.execute_reply.started": "2025-05-27T02:47:08.503711Z"
    },
    "trusted": true
   },
   "outputs": [
    {
     "data": {
      "text/plain": [
       "tensor([ 95231, 168704,    122, 192478,      7,  99872,      2, 250003,      1,\n",
       "             1,      1,      1,      1,      1,      1,      1,      1,      1,\n",
       "             1,      1,      1,      1,      1,      1,      1,      1,      1,\n",
       "             1,      1,      1,      1,      1,      1,      1,      1,      1,\n",
       "             1,      1,      1,      1,      1,      1,      1,      1,      1,\n",
       "             1,      1,      1,      1,      1,      1,      1,      1,      1,\n",
       "             1,      1,      1,      1,      1,      1,      1,      1,      1,\n",
       "             1])"
      ]
     },
     "execution_count": 10,
     "metadata": {},
     "output_type": "execute_result"
    }
   ],
   "source": [
    "train_tokens['labels'][0]"
   ]
  },
  {
   "cell_type": "code",
   "execution_count": 11,
   "metadata": {
    "execution": {
     "iopub.execute_input": "2025-05-27T02:47:08.959656Z",
     "iopub.status.busy": "2025-05-27T02:47:08.959373Z",
     "iopub.status.idle": "2025-05-27T02:47:08.965799Z",
     "shell.execute_reply": "2025-05-27T02:47:08.965141Z",
     "shell.execute_reply.started": "2025-05-27T02:47:08.959635Z"
    },
    "trusted": true
   },
   "outputs": [
    {
     "data": {
      "text/plain": [
       "tensor([1, 1, 1, 1, 1, 1, 1, 1, 0, 0, 0, 0, 0, 0, 0, 0, 0, 0, 0, 0, 0, 0, 0, 0,\n",
       "        0, 0, 0, 0, 0, 0, 0, 0, 0, 0, 0, 0, 0, 0, 0, 0, 0, 0, 0, 0, 0, 0, 0, 0,\n",
       "        0, 0, 0, 0, 0, 0, 0, 0, 0, 0, 0, 0, 0, 0, 0, 0])"
      ]
     },
     "execution_count": 11,
     "metadata": {},
     "output_type": "execute_result"
    }
   ],
   "source": [
    "train_tokens['attention_mask'][0]"
   ]
  },
  {
   "cell_type": "markdown",
   "metadata": {},
   "source": [
    "Wherever attention_mask is 0, the input_ids and labels corresponding to that are padding labels, the others are what our real text is."
   ]
  },
  {
   "cell_type": "markdown",
   "metadata": {
    "execution": {
     "iopub.execute_input": "2025-05-15T18:08:54.106051Z",
     "iopub.status.busy": "2025-05-15T18:08:54.105092Z",
     "iopub.status.idle": "2025-05-15T18:08:54.112799Z",
     "shell.execute_reply": "2025-05-15T18:08:54.111560Z",
     "shell.execute_reply.started": "2025-05-15T18:08:54.106021Z"
    }
   },
   "source": [
    "## Token Embedding\n",
    "\n",
    "If we use all the data at a time, we will run out of RAM in no time. So, let's define a function that returns batches."
   ]
  },
  {
   "cell_type": "code",
   "execution_count": 10,
   "metadata": {
    "execution": {
     "iopub.execute_input": "2025-05-27T15:52:30.172165Z",
     "iopub.status.busy": "2025-05-27T15:52:30.171959Z",
     "iopub.status.idle": "2025-05-27T15:52:30.186764Z",
     "shell.execute_reply": "2025-05-27T15:52:30.186143Z",
     "shell.execute_reply.started": "2025-05-27T15:52:30.172149Z"
    },
    "trusted": true
   },
   "outputs": [],
   "source": [
    "def get_batch(data, n_batch, length=n_data):\n",
    "    random_ids = random.sample(range(0, length), n_batch)\n",
    "    return {\n",
    "        'input_ids': data['input_ids'][random_ids],\n",
    "        'attention_mask': data['attention_mask'][random_ids],\n",
    "        'labels': data['labels'][random_ids]\n",
    "    }"
   ]
  },
  {
   "cell_type": "code",
   "execution_count": 11,
   "metadata": {
    "execution": {
     "iopub.execute_input": "2025-05-27T15:52:30.187733Z",
     "iopub.status.busy": "2025-05-27T15:52:30.187492Z",
     "iopub.status.idle": "2025-05-27T15:52:30.209341Z",
     "shell.execute_reply": "2025-05-27T15:52:30.208772Z",
     "shell.execute_reply.started": "2025-05-27T15:52:30.187714Z"
    },
    "trusted": true
   },
   "outputs": [
    {
     "data": {
      "text/plain": [
       "torch.Size([5, 64])"
      ]
     },
     "execution_count": 11,
     "metadata": {},
     "output_type": "execute_result"
    }
   ],
   "source": [
    "sample_batch = get_batch(train_tokens, batch_size)\n",
    "sample_batch['input_ids'].shape # batch_size, seq_len"
   ]
  },
  {
   "cell_type": "code",
   "execution_count": 12,
   "metadata": {
    "execution": {
     "iopub.execute_input": "2025-05-27T15:52:30.210454Z",
     "iopub.status.busy": "2025-05-27T15:52:30.209984Z",
     "iopub.status.idle": "2025-05-27T15:52:30.219109Z",
     "shell.execute_reply": "2025-05-27T15:52:30.218421Z",
     "shell.execute_reply.started": "2025-05-27T15:52:30.210438Z"
    },
    "trusted": true
   },
   "outputs": [],
   "source": [
    "class TokenEmbeddings(nn.Module):\n",
    "    def __init__(self, vocab_size, n_embd):\n",
    "        super(TokenEmbeddings, self).__init__()\n",
    "        self.embedder = nn.Embedding(vocab_size, n_embd).to(device) # maps vocab_size to n_embd\n",
    "    def forward(self, x):\n",
    "        return self.embedder(x.to(device)) "
   ]
  },
  {
   "cell_type": "code",
   "execution_count": 13,
   "metadata": {
    "execution": {
     "iopub.execute_input": "2025-05-27T15:52:30.220049Z",
     "iopub.status.busy": "2025-05-27T15:52:30.219819Z",
     "iopub.status.idle": "2025-05-27T15:52:31.826861Z",
     "shell.execute_reply": "2025-05-27T15:52:31.826193Z",
     "shell.execute_reply.started": "2025-05-27T15:52:30.220023Z"
    },
    "trusted": true
   },
   "outputs": [
    {
     "data": {
      "text/plain": [
       "torch.Size([5, 64, 512])"
      ]
     },
     "execution_count": 13,
     "metadata": {},
     "output_type": "execute_result"
    }
   ],
   "source": [
    "e = TokenEmbeddings(vocab_size, n_embd)\n",
    "embs = e(sample_batch['input_ids']) # batch_size * seq_len * n_embd\n",
    "embs.shape"
   ]
  },
  {
   "cell_type": "markdown",
   "metadata": {},
   "source": [
    "## Positional Encoding"
   ]
  },
  {
   "attachments": {
    "73b28656-9efa-449d-a889-70a287054794.png": {
     "image/png": "[encoded data removed]"
    }
   },
   "cell_type": "markdown",
   "metadata": {},
   "source": [
    "![image.png](attachment:73b28656-9efa-449d-a889-70a287054794.png)\n",
    "\n",
    "Irrespective of token embeddings, positional encoding is the same to all the embeddings. In the fig., pos corresponds to seq_len dimension and i corresponds to n_embd dimension."
   ]
  },
  {
   "cell_type": "code",
   "execution_count": 14,
   "metadata": {
    "execution": {
     "iopub.execute_input": "2025-05-27T15:52:31.827819Z",
     "iopub.status.busy": "2025-05-27T15:52:31.827645Z",
     "iopub.status.idle": "2025-05-27T15:52:31.832474Z",
     "shell.execute_reply": "2025-05-27T15:52:31.831753Z",
     "shell.execute_reply.started": "2025-05-27T15:52:31.827806Z"
    },
    "trusted": true
   },
   "outputs": [],
   "source": [
    "def get_positional_encodings(seq_len, n_embd): \n",
    "    x = torch.zeros(seq_len, n_embd) # seq_len * n_embd\n",
    "    pos = torch.arange(0, seq_len).unsqueeze(1) # seq_len * 1\n",
    "    i = torch.arange(0, n_embd, 2) # (n_embd/2)\n",
    "    denominator = torch.pow(10000, -i / n_embd) # (n_embd/2)\n",
    "    x[:, 0::2] = torch.sin(pos * denominator)\n",
    "    x[:, 1::2] = torch.cos(pos * denominator) \n",
    "    return x.to(device)"
   ]
  },
  {
   "cell_type": "code",
   "execution_count": 15,
   "metadata": {
    "execution": {
     "iopub.execute_input": "2025-05-27T15:52:31.833594Z",
     "iopub.status.busy": "2025-05-27T15:52:31.833224Z",
     "iopub.status.idle": "2025-05-27T15:52:33.195928Z",
     "shell.execute_reply": "2025-05-27T15:52:33.195186Z",
     "shell.execute_reply.started": "2025-05-27T15:52:31.833570Z"
    },
    "trusted": true
   },
   "outputs": [
    {
     "data": {
      "text/plain": [
       "torch.Size([64, 512])"
      ]
     },
     "execution_count": 15,
     "metadata": {},
     "output_type": "execute_result"
    }
   ],
   "source": [
    "pe = get_positional_encodings(seq_len, n_embd).to(device)\n",
    "pe.shape"
   ]
  },
  {
   "cell_type": "markdown",
   "metadata": {},
   "source": [
    "## Combine token embeddings and positional encoding\n",
    "Combining positional encoding will make our model understand the relative positions of words so that they make sense."
   ]
  },
  {
   "cell_type": "code",
   "execution_count": 16,
   "metadata": {
    "execution": {
     "iopub.execute_input": "2025-05-27T15:52:33.197122Z",
     "iopub.status.busy": "2025-05-27T15:52:33.196799Z",
     "iopub.status.idle": "2025-05-27T15:52:33.223904Z",
     "shell.execute_reply": "2025-05-27T15:52:33.223414Z",
     "shell.execute_reply.started": "2025-05-27T15:52:33.197091Z"
    },
    "trusted": true
   },
   "outputs": [
    {
     "data": {
      "text/plain": [
       "torch.Size([5, 64, 512])"
      ]
     },
     "execution_count": 16,
     "metadata": {},
     "output_type": "execute_result"
    }
   ],
   "source": [
    "inp_embs = embs + pe\n",
    "inp_embs.shape"
   ]
  },
  {
   "attachments": {
    "4ea9d595-d0f2-45a9-8236-83ad2523f5b9.png": {
     "image/png": "[encoded data removed]"
    }
   },
   "cell_type": "markdown",
   "metadata": {},
   "source": [
    "## Self Attention\n",
    "![image.png](attachment:4ea9d595-d0f2-45a9-8236-83ad2523f5b9.png)"
   ]
  },
  {
   "cell_type": "code",
   "execution_count": 17,
   "metadata": {
    "execution": {
     "iopub.execute_input": "2025-05-27T15:52:33.224894Z",
     "iopub.status.busy": "2025-05-27T15:52:33.224644Z",
     "iopub.status.idle": "2025-05-27T15:52:33.231355Z",
     "shell.execute_reply": "2025-05-27T15:52:33.230826Z",
     "shell.execute_reply.started": "2025-05-27T15:52:33.224871Z"
    },
    "trusted": true
   },
   "outputs": [],
   "source": [
    "class Attention(nn.Module):\n",
    "    def __init__(self, n_embd):\n",
    "        super(Attention, self).__init__()\n",
    "        self.n_embd = n_embd\n",
    "        self.q = nn.Linear(n_embd, n_embd)\n",
    "        self.k = nn.Linear(n_embd, n_embd)\n",
    "        self.v = nn.Linear(n_embd, n_embd)\n",
    "    def forward(self, q_encodings, k_encodings, v_encodings, mask=False):\n",
    "        Q = self.q(q_encodings)\n",
    "        K = self.k(k_encodings)\n",
    "        V = self.v(v_encodings)\n",
    "        sims = torch.matmul(Q, K.transpose(dim0=-2, dim1=-1))\n",
    "        scaled_sims = sims / torch.sqrt(torch.tensor(self.n_embd, dtype=torch.float32, device=device))\n",
    "        if mask:\n",
    "            _, y, z = q_encodings.shape \n",
    "            mask_matrix = torch.tril(torch.ones(y, z, device=device))\n",
    "            mask_matrix = torch.where(mask_matrix == 0, float('-inf'), 0.0)\n",
    "            scaled_sims = scaled_sims + mask_matrix\n",
    "        attention_percentages = F.softmax(scaled_sims, dim=-1)\n",
    "        attention_scores = torch.matmul(attention_percentages, V)\n",
    "        return attention_scores"
   ]
  },
  {
   "attachments": {
    "e6421642-e69a-45a0-b49d-f198a253cf3b.png": {
     "image/png": "[encoded data removed]"
    }
   },
   "cell_type": "markdown",
   "metadata": {},
   "source": [
    "## Multihead Attention\n",
    "The paper states `Instead of performing a single attention function with dmodel-dimensional keys, values and queries,\n",
    "we found it beneficial to linearly project the queries, keys and values h times with different, learned\n",
    "linear projections to dk, dk and dv dimensions, respectively. On each of these projected versions of\n",
    "queries, keys and values we then perform the attention function in parallel, yielding dv-dimensional\n",
    "output values. These are concatenated and once again projected, resulting in the final values as depicted in Figure 2`.\n",
    "\n",
    "![image.png](attachment:e6421642-e69a-45a0-b49d-f198a253cf3b.png)"
   ]
  },
  {
   "cell_type": "code",
   "execution_count": 18,
   "metadata": {
    "execution": {
     "iopub.execute_input": "2025-05-27T15:52:33.232217Z",
     "iopub.status.busy": "2025-05-27T15:52:33.231980Z",
     "iopub.status.idle": "2025-05-27T15:52:33.249951Z",
     "shell.execute_reply": "2025-05-27T15:52:33.249335Z",
     "shell.execute_reply.started": "2025-05-27T15:52:33.232192Z"
    },
    "trusted": true
   },
   "outputs": [],
   "source": [
    "class MultiHeadAttention(nn.Module):\n",
    "    def __init__(self, n_embd, n_heads):\n",
    "        super(MultiHeadAttention, self).__init__()\n",
    "        assert n_embd % n_heads == 0, \"n_embd i.e, d_model should be divisible by no of Attention heads.\"\n",
    "        self.n_embd=n_embd\n",
    "        self.n_heads=n_heads\n",
    "        self.head_dim=n_embd//n_heads\n",
    "        self.heads=nn.ModuleList(\n",
    "            [Attention(self.head_dim).to(device) for _ in range(n_heads)]\n",
    "        )\n",
    "        self.proj=nn.Linear(n_embd, n_embd).to(device)\n",
    "    def forward(self, q_encodings, k_encodings, v_encodings, mask=False):\n",
    "        cat=torch.cat([\n",
    "            head(\n",
    "                q_encodings[:,:,i * self.head_dim : (i + 1) * self.head_dim], \n",
    "                k_encodings[:,:,i * self.head_dim : (i + 1) * self.head_dim], \n",
    "                v_encodings[:,:,i * self.head_dim : (i + 1) * self.head_dim],\n",
    "                mask\n",
    "            ) for i, head in enumerate(self.heads)], dim=-1)\n",
    "        mha=self.proj(cat)\n",
    "        return mha"
   ]
  },
  {
   "attachments": {
    "8d713a07-c5ab-4d85-843a-027fc7cef037.png": {
     "image/png": "[encoded data removed]"
    }
   },
   "cell_type": "markdown",
   "metadata": {},
   "source": [
    "## Encoder"
   ]
  },
  {
   "cell_type": "code",
   "execution_count": 19,
   "metadata": {
    "execution": {
     "iopub.execute_input": "2025-05-27T15:52:33.251008Z",
     "iopub.status.busy": "2025-05-27T15:52:33.250687Z",
     "iopub.status.idle": "2025-05-27T15:52:33.265859Z",
     "shell.execute_reply": "2025-05-27T15:52:33.265255Z",
     "shell.execute_reply.started": "2025-05-27T15:52:33.250982Z"
    },
    "trusted": true
   },
   "outputs": [],
   "source": [
    "class TransformerBlock(nn.Module):\n",
    "    def __init__(self, n_embd, n_heads, dropout, expansion_factor):\n",
    "        super(TransformerBlock, self).__init__()\n",
    "        self.mha=MultiHeadAttention(n_embd, n_heads)\n",
    "        self.norm1=nn.LayerNorm(n_embd)\n",
    "        self.norm2=nn.LayerNorm(n_embd)\n",
    "        self.dropout=nn.Dropout(dropout)\n",
    "        self.feedforward = nn.Sequential(\n",
    "            nn.Linear(n_embd, n_embd * expansion_factor, bias=False),\n",
    "            nn.GELU(),\n",
    "            nn.Linear(n_embd * expansion_factor, n_embd, bias=False),\n",
    "        )\n",
    "    def forward(self, q, k, v):\n",
    "        att=self.mha(q, k, v)\n",
    "        out1=self.dropout(self.norm1(q+att))\n",
    "        ff=self.feedforward(out1)\n",
    "        out2=self.dropout(self.norm2(out1+ff))\n",
    "        return out2"
   ]
  },
  {
   "cell_type": "code",
   "execution_count": 20,
   "metadata": {
    "execution": {
     "iopub.execute_input": "2025-05-27T15:52:33.266900Z",
     "iopub.status.busy": "2025-05-27T15:52:33.266624Z",
     "iopub.status.idle": "2025-05-27T15:52:33.284269Z",
     "shell.execute_reply": "2025-05-27T15:52:33.283571Z",
     "shell.execute_reply.started": "2025-05-27T15:52:33.266878Z"
    },
    "trusted": true
   },
   "outputs": [],
   "source": [
    "class Encoder(nn.Module):\n",
    "    def __init__(self, vocab_size, n_embd, n_heads, n_layers, seq_len, dropout, expansion_factor):\n",
    "        super(Encoder, self).__init__()\n",
    "        self.te=TokenEmbeddings(vocab_size, n_embd)\n",
    "        self.pe=get_positional_encodings(seq_len, n_embd).to(device)\n",
    "        self.TransformerStack=nn.ModuleList([\n",
    "            TransformerBlock(n_embd, n_heads, dropout, expansion_factor) for _ in range(n_layers)\n",
    "        ])\n",
    "\n",
    "    def forward(self, batch_data):\n",
    "        token_embeddings=self.te(batch_data).to(device)\n",
    "        ip=token_embeddings+self.pe\n",
    "        for block in self.TransformerStack:\n",
    "            ip=block(ip, ip, ip)\n",
    "        return ip"
   ]
  },
  {
   "cell_type": "markdown",
   "metadata": {},
   "source": [
    "## Decoder"
   ]
  },
  {
   "cell_type": "code",
   "execution_count": 21,
   "metadata": {
    "execution": {
     "iopub.execute_input": "2025-05-27T15:52:33.285380Z",
     "iopub.status.busy": "2025-05-27T15:52:33.285028Z",
     "iopub.status.idle": "2025-05-27T15:52:33.298975Z",
     "shell.execute_reply": "2025-05-27T15:52:33.298483Z",
     "shell.execute_reply.started": "2025-05-27T15:52:33.285358Z"
    },
    "trusted": true
   },
   "outputs": [],
   "source": [
    "class DecoderBlock(nn.Module):\n",
    "    def __init__(self, n_embd, n_heads, expansion_factor, dropout):\n",
    "        super(DecoderBlock, self).__init__()\n",
    "        self.norm = nn.LayerNorm(n_embd)\n",
    "        self.dropout = nn.Dropout(dropout)\n",
    "        self.masked_attention = MultiHeadAttention(n_embd=n_embd, n_heads=n_heads)\n",
    "        self.Transformer = TransformerBlock(\n",
    "                                n_embd=n_embd,\n",
    "                                n_heads=n_heads,\n",
    "                                expansion_factor=expansion_factor,\n",
    "                                dropout=dropout\n",
    "                            )\n",
    "        \n",
    "    def forward(self, q_enc, k_enc, v_enc, q_dec, k_dec, v_dec, mask=True):\n",
    "        out1 = self.dropout(self.norm(q_dec + self.masked_attention(q_dec, k_dec, v_dec, mask)))\n",
    "        out2 = self.dropout(self.norm(out1 + self.Transformer(out1, k_enc, v_enc)))\n",
    "        return out2\n"
   ]
  },
  {
   "cell_type": "code",
   "execution_count": 22,
   "metadata": {
    "execution": {
     "iopub.execute_input": "2025-05-27T15:52:33.300334Z",
     "iopub.status.busy": "2025-05-27T15:52:33.299721Z",
     "iopub.status.idle": "2025-05-27T15:52:33.316629Z",
     "shell.execute_reply": "2025-05-27T15:52:33.315928Z",
     "shell.execute_reply.started": "2025-05-27T15:52:33.300311Z"
    },
    "trusted": true
   },
   "outputs": [],
   "source": [
    "class Decoder(nn.Module):\n",
    "    def __init__(self, vocab_size, seq_len, n_layers, n_embd, n_heads, expansion_factor, dropout):\n",
    "        super(Decoder, self).__init__()\n",
    "        self.te=TokenEmbeddings(vocab_size, n_embd)\n",
    "        self.pe=get_positional_encodings(seq_len, n_embd)\n",
    "        self.DecoderStack = nn.ModuleList([\n",
    "            DecoderBlock(\n",
    "                n_embd=n_embd,\n",
    "                n_heads=n_heads,\n",
    "                expansion_factor=expansion_factor,\n",
    "                dropout=dropout\n",
    "            ) for _ in range(n_layers)\n",
    "        ]) \n",
    "        \n",
    "    def forward(self, decoder_input, encoder_output):\n",
    "        token_embeddings = self.te(decoder_input)\n",
    "        ip = token_embeddings + self.pe.to(device)\n",
    "        for block in self.DecoderStack:\n",
    "            ip = block(encoder_output, encoder_output, encoder_output, ip, ip, ip)\n",
    "        return ip"
   ]
  },
  {
   "cell_type": "code",
   "execution_count": 23,
   "metadata": {
    "execution": {
     "iopub.execute_input": "2025-05-27T15:52:33.317534Z",
     "iopub.status.busy": "2025-05-27T15:52:33.317312Z",
     "iopub.status.idle": "2025-05-27T15:52:33.330169Z",
     "shell.execute_reply": "2025-05-27T15:52:33.329499Z",
     "shell.execute_reply.started": "2025-05-27T15:52:33.317516Z"
    },
    "trusted": true
   },
   "outputs": [],
   "source": [
    "class MachineTranslator(nn.Module):\n",
    "    def __init__(self, vocab_size, seq_len, n_embd, n_heads, n_layers, expansion_factor, dropout):\n",
    "        super(MachineTranslator, self).__init__()\n",
    "        self.encoder = Encoder(\n",
    "            vocab_size=vocab_size,\n",
    "            seq_len=seq_len,\n",
    "            n_embd=n_embd,\n",
    "            n_heads=n_heads,\n",
    "            n_layers=n_layers,\n",
    "            expansion_factor=expansion_factor,\n",
    "            dropout=dropout\n",
    "        )\n",
    "        self.decoder = Decoder(\n",
    "            vocab_size=vocab_size,\n",
    "            seq_len=seq_len,\n",
    "            n_layers=n_layers,\n",
    "            n_embd=n_embd,\n",
    "            n_heads=n_heads,\n",
    "            expansion_factor=expansion_factor,\n",
    "            dropout=dropout\n",
    "        )\n",
    "        self.final_linear = nn.Linear(n_embd, vocab_size)\n",
    "\n",
    "    def forward(self, encoder_input, decoder_input):\n",
    "        encoder_output = self.encoder(encoder_input)\n",
    "        decoder_output = self.decoder(decoder_input, encoder_output)\n",
    "        output_logits = self.final_linear(decoder_output)\n",
    "        return output_logits\n"
   ]
  },
  {
   "cell_type": "code",
   "execution_count": 24,
   "metadata": {
    "execution": {
     "iopub.execute_input": "2025-05-27T15:52:33.332655Z",
     "iopub.status.busy": "2025-05-27T15:52:33.332473Z",
     "iopub.status.idle": "2025-05-27T15:52:37.866698Z",
     "shell.execute_reply": "2025-05-27T15:52:37.866015Z",
     "shell.execute_reply.started": "2025-05-27T15:52:33.332641Z"
    },
    "trusted": true
   },
   "outputs": [
    {
     "data": {
      "text/plain": [
       "torch.Size([5, 64, 250027])"
      ]
     },
     "execution_count": 24,
     "metadata": {},
     "output_type": "execute_result"
    }
   ],
   "source": [
    "mt=MachineTranslator(vocab_size, seq_len, n_embd, n_heads, n_layers, expansion_factor, dropout).to(device)\n",
    "out=mt(sample_batch['input_ids'].to(device), sample_batch['input_ids'].to(device))\n",
    "out.shape"
   ]
  },
  {
   "cell_type": "markdown",
   "metadata": {},
   "source": [
    "## Training"
   ]
  },
  {
   "cell_type": "code",
   "execution_count": 26,
   "metadata": {
    "collapsed": true,
    "execution": {
     "iopub.execute_input": "2025-05-17T14:58:19.604234Z",
     "iopub.status.busy": "2025-05-17T14:58:19.603963Z",
     "iopub.status.idle": "2025-05-17T15:52:45.621173Z",
     "shell.execute_reply": "2025-05-17T15:52:45.620360Z",
     "shell.execute_reply.started": "2025-05-17T14:58:19.604217Z"
    },
    "jupyter": {
     "outputs_hidden": true
    },
    "trusted": true
   },
   "outputs": [
    {
     "name": "stdout",
     "output_type": "stream",
     "text": [
      "Running the model for a toal of 100 epochs with 100 batches each.\n",
      "|----Epoch 0.0 : Loss of the current batch 12.6024\n",
      "Epoch 0 : Average Loss per Batch 9.6316\n",
      "Running the model for a toal of 100 epochs with 100 batches each.\n",
      "|----Epoch 1.0 : Loss of the current batch 7.5470\n",
      "Epoch 1 : Average Loss per Batch 7.1936\n",
      "Running the model for a toal of 100 epochs with 100 batches each.\n",
      "|----Epoch 2.0 : Loss of the current batch 6.8998\n",
      "Epoch 2 : Average Loss per Batch 6.8862\n",
      "Running the model for a toal of 100 epochs with 100 batches each.\n",
      "|----Epoch 3.0 : Loss of the current batch 7.0983\n",
      "Epoch 3 : Average Loss per Batch 6.6623\n",
      "Running the model for a toal of 100 epochs with 100 batches each.\n",
      "|----Epoch 4.0 : Loss of the current batch 6.8641\n",
      "Epoch 4 : Average Loss per Batch 6.5283\n",
      "Running the model for a toal of 100 epochs with 100 batches each.\n",
      "|----Epoch 5.0 : Loss of the current batch 6.4594\n",
      "Epoch 5 : Average Loss per Batch 6.4537\n",
      "Running the model for a toal of 100 epochs with 100 batches each.\n",
      "|----Epoch 6.0 : Loss of the current batch 6.0375\n",
      "Epoch 6 : Average Loss per Batch 6.3975\n",
      "Running the model for a toal of 100 epochs with 100 batches each.\n",
      "|----Epoch 7.0 : Loss of the current batch 6.5833\n",
      "Epoch 7 : Average Loss per Batch 6.3482\n",
      "Running the model for a toal of 100 epochs with 100 batches each.\n",
      "|----Epoch 8.0 : Loss of the current batch 5.9018\n",
      "Epoch 8 : Average Loss per Batch 6.2412\n",
      "Running the model for a toal of 100 epochs with 100 batches each.\n",
      "|----Epoch 9.0 : Loss of the current batch 6.4787\n",
      "Epoch 9 : Average Loss per Batch 6.1901\n",
      "Running the model for a toal of 100 epochs with 100 batches each.\n",
      "|----Epoch 10.0 : Loss of the current batch 6.2564\n",
      "Epoch 10 : Average Loss per Batch 6.1379\n",
      "Running the model for a toal of 100 epochs with 100 batches each.\n",
      "|----Epoch 11.0 : Loss of the current batch 6.7984\n",
      "Epoch 11 : Average Loss per Batch 6.1184\n",
      "Running the model for a toal of 100 epochs with 100 batches each.\n",
      "|----Epoch 12.0 : Loss of the current batch 6.1063\n",
      "Epoch 12 : Average Loss per Batch 6.0952\n",
      "Running the model for a toal of 100 epochs with 100 batches each.\n",
      "|----Epoch 13.0 : Loss of the current batch 5.7349\n",
      "Epoch 13 : Average Loss per Batch 6.0376\n",
      "Running the model for a toal of 100 epochs with 100 batches each.\n",
      "|----Epoch 14.0 : Loss of the current batch 6.2295\n",
      "Epoch 14 : Average Loss per Batch 6.0294\n",
      "Running the model for a toal of 100 epochs with 100 batches each.\n",
      "|----Epoch 15.0 : Loss of the current batch 6.5424\n",
      "Epoch 15 : Average Loss per Batch 5.9960\n",
      "Running the model for a toal of 100 epochs with 100 batches each.\n",
      "|----Epoch 16.0 : Loss of the current batch 6.3406\n",
      "Epoch 16 : Average Loss per Batch 5.9655\n",
      "Running the model for a toal of 100 epochs with 100 batches each.\n",
      "|----Epoch 17.0 : Loss of the current batch 5.6217\n",
      "Epoch 17 : Average Loss per Batch 5.9584\n",
      "Running the model for a toal of 100 epochs with 100 batches each.\n",
      "|----Epoch 18.0 : Loss of the current batch 5.7235\n",
      "Epoch 18 : Average Loss per Batch 5.8983\n",
      "Running the model for a toal of 100 epochs with 100 batches each.\n",
      "|----Epoch 19.0 : Loss of the current batch 6.2372\n",
      "Epoch 19 : Average Loss per Batch 5.8989\n",
      "Running the model for a toal of 100 epochs with 100 batches each.\n",
      "|----Epoch 20.0 : Loss of the current batch 5.9247\n",
      "Epoch 20 : Average Loss per Batch 5.8604\n",
      "Running the model for a toal of 100 epochs with 100 batches each.\n",
      "|----Epoch 21.0 : Loss of the current batch 5.9278\n",
      "Epoch 21 : Average Loss per Batch 5.8602\n",
      "Running the model for a toal of 100 epochs with 100 batches each.\n",
      "|----Epoch 22.0 : Loss of the current batch 5.4393\n",
      "Epoch 22 : Average Loss per Batch 5.8351\n",
      "Running the model for a toal of 100 epochs with 100 batches each.\n",
      "|----Epoch 23.0 : Loss of the current batch 6.1919\n",
      "Epoch 23 : Average Loss per Batch 5.7739\n",
      "Running the model for a toal of 100 epochs with 100 batches each.\n",
      "|----Epoch 24.0 : Loss of the current batch 6.1828\n",
      "Epoch 24 : Average Loss per Batch 5.7350\n",
      "Running the model for a toal of 100 epochs with 100 batches each.\n",
      "|----Epoch 25.0 : Loss of the current batch 5.5353\n",
      "Epoch 25 : Average Loss per Batch 5.7618\n",
      "Running the model for a toal of 100 epochs with 100 batches each.\n",
      "|----Epoch 26.0 : Loss of the current batch 5.9653\n",
      "Epoch 26 : Average Loss per Batch 5.7715\n",
      "Running the model for a toal of 100 epochs with 100 batches each.\n",
      "|----Epoch 27.0 : Loss of the current batch 5.4929\n",
      "Epoch 27 : Average Loss per Batch 5.6983\n",
      "Running the model for a toal of 100 epochs with 100 batches each.\n",
      "|----Epoch 28.0 : Loss of the current batch 5.4659\n",
      "Epoch 28 : Average Loss per Batch 5.7166\n",
      "Running the model for a toal of 100 epochs with 100 batches each.\n",
      "|----Epoch 29.0 : Loss of the current batch 5.7104\n",
      "Epoch 29 : Average Loss per Batch 5.7061\n",
      "Running the model for a toal of 100 epochs with 100 batches each.\n",
      "|----Epoch 30.0 : Loss of the current batch 5.2872\n",
      "Epoch 30 : Average Loss per Batch 5.7293\n",
      "Running the model for a toal of 100 epochs with 100 batches each.\n",
      "|----Epoch 31.0 : Loss of the current batch 5.6823\n",
      "Epoch 31 : Average Loss per Batch 5.6866\n",
      "Running the model for a toal of 100 epochs with 100 batches each.\n",
      "|----Epoch 32.0 : Loss of the current batch 5.7611\n",
      "Epoch 32 : Average Loss per Batch 5.6680\n",
      "Running the model for a toal of 100 epochs with 100 batches each.\n",
      "|----Epoch 33.0 : Loss of the current batch 5.7254\n",
      "Epoch 33 : Average Loss per Batch 5.6499\n",
      "Running the model for a toal of 100 epochs with 100 batches each.\n",
      "|----Epoch 34.0 : Loss of the current batch 5.3066\n",
      "Epoch 34 : Average Loss per Batch 5.6265\n",
      "Running the model for a toal of 100 epochs with 100 batches each.\n",
      "|----Epoch 35.0 : Loss of the current batch 5.5963\n",
      "Epoch 35 : Average Loss per Batch 5.5817\n",
      "Running the model for a toal of 100 epochs with 100 batches each.\n",
      "|----Epoch 36.0 : Loss of the current batch 6.0489\n",
      "Epoch 36 : Average Loss per Batch 5.6011\n",
      "Running the model for a toal of 100 epochs with 100 batches each.\n",
      "|----Epoch 37.0 : Loss of the current batch 5.8037\n",
      "Epoch 37 : Average Loss per Batch 5.5945\n",
      "Running the model for a toal of 100 epochs with 100 batches each.\n",
      "|----Epoch 38.0 : Loss of the current batch 6.0089\n",
      "Epoch 38 : Average Loss per Batch 5.6278\n",
      "Running the model for a toal of 100 epochs with 100 batches each.\n",
      "|----Epoch 39.0 : Loss of the current batch 4.8392\n",
      "Epoch 39 : Average Loss per Batch 5.6163\n",
      "Running the model for a toal of 100 epochs with 100 batches each.\n",
      "|----Epoch 40.0 : Loss of the current batch 6.0638\n",
      "Epoch 40 : Average Loss per Batch 5.5899\n",
      "Running the model for a toal of 100 epochs with 100 batches each.\n",
      "|----Epoch 41.0 : Loss of the current batch 5.2962\n",
      "Epoch 41 : Average Loss per Batch 5.5039\n",
      "Running the model for a toal of 100 epochs with 100 batches each.\n",
      "|----Epoch 42.0 : Loss of the current batch 5.2755\n",
      "Epoch 42 : Average Loss per Batch 5.5904\n",
      "Running the model for a toal of 100 epochs with 100 batches each.\n",
      "|----Epoch 43.0 : Loss of the current batch 5.2547\n",
      "Epoch 43 : Average Loss per Batch 5.5279\n",
      "Running the model for a toal of 100 epochs with 100 batches each.\n",
      "|----Epoch 44.0 : Loss of the current batch 5.5797\n",
      "Epoch 44 : Average Loss per Batch 5.4743\n",
      "Running the model for a toal of 100 epochs with 100 batches each.\n",
      "|----Epoch 45.0 : Loss of the current batch 4.8902\n",
      "Epoch 45 : Average Loss per Batch 5.4927\n",
      "Running the model for a toal of 100 epochs with 100 batches each.\n",
      "|----Epoch 46.0 : Loss of the current batch 5.2472\n",
      "Epoch 46 : Average Loss per Batch 5.5269\n",
      "Running the model for a toal of 100 epochs with 100 batches each.\n",
      "|----Epoch 47.0 : Loss of the current batch 4.9432\n",
      "Epoch 47 : Average Loss per Batch 5.4841\n",
      "Running the model for a toal of 100 epochs with 100 batches each.\n",
      "|----Epoch 48.0 : Loss of the current batch 5.4230\n",
      "Epoch 48 : Average Loss per Batch 5.4533\n",
      "Running the model for a toal of 100 epochs with 100 batches each.\n",
      "|----Epoch 49.0 : Loss of the current batch 5.0730\n",
      "Epoch 49 : Average Loss per Batch 5.4832\n",
      "Running the model for a toal of 100 epochs with 100 batches each.\n",
      "|----Epoch 50.0 : Loss of the current batch 6.1315\n",
      "Epoch 50 : Average Loss per Batch 5.4874\n",
      "Running the model for a toal of 100 epochs with 100 batches each.\n",
      "|----Epoch 51.0 : Loss of the current batch 5.1824\n",
      "Epoch 51 : Average Loss per Batch 5.4588\n",
      "Running the model for a toal of 100 epochs with 100 batches each.\n",
      "|----Epoch 52.0 : Loss of the current batch 5.3229\n",
      "Epoch 52 : Average Loss per Batch 5.4896\n",
      "Running the model for a toal of 100 epochs with 100 batches each.\n",
      "|----Epoch 53.0 : Loss of the current batch 5.4262\n",
      "Epoch 53 : Average Loss per Batch 5.4349\n",
      "Running the model for a toal of 100 epochs with 100 batches each.\n",
      "|----Epoch 54.0 : Loss of the current batch 5.3389\n",
      "Epoch 54 : Average Loss per Batch 5.4267\n",
      "Running the model for a toal of 100 epochs with 100 batches each.\n",
      "|----Epoch 55.0 : Loss of the current batch 5.3283\n",
      "Epoch 55 : Average Loss per Batch 5.3737\n",
      "Running the model for a toal of 100 epochs with 100 batches each.\n",
      "|----Epoch 56.0 : Loss of the current batch 5.4088\n",
      "Epoch 56 : Average Loss per Batch 5.3966\n",
      "Running the model for a toal of 100 epochs with 100 batches each.\n",
      "|----Epoch 57.0 : Loss of the current batch 5.1000\n",
      "Epoch 57 : Average Loss per Batch 5.3903\n",
      "Running the model for a toal of 100 epochs with 100 batches each.\n",
      "|----Epoch 58.0 : Loss of the current batch 5.3085\n",
      "Epoch 58 : Average Loss per Batch 5.3931\n",
      "Running the model for a toal of 100 epochs with 100 batches each.\n",
      "|----Epoch 59.0 : Loss of the current batch 5.1292\n",
      "Epoch 59 : Average Loss per Batch 5.3935\n",
      "Running the model for a toal of 100 epochs with 100 batches each.\n",
      "|----Epoch 60.0 : Loss of the current batch 5.6402\n",
      "Epoch 60 : Average Loss per Batch 5.4179\n",
      "Running the model for a toal of 100 epochs with 100 batches each.\n",
      "|----Epoch 61.0 : Loss of the current batch 5.7821\n",
      "Epoch 61 : Average Loss per Batch 5.3958\n",
      "Running the model for a toal of 100 epochs with 100 batches each.\n",
      "|----Epoch 62.0 : Loss of the current batch 5.7418\n",
      "Epoch 62 : Average Loss per Batch 5.3628\n",
      "Running the model for a toal of 100 epochs with 100 batches each.\n",
      "|----Epoch 63.0 : Loss of the current batch 5.1643\n",
      "Epoch 63 : Average Loss per Batch 5.3988\n",
      "Running the model for a toal of 100 epochs with 100 batches each.\n",
      "|----Epoch 64.0 : Loss of the current batch 5.5818\n",
      "Epoch 64 : Average Loss per Batch 5.3402\n",
      "Running the model for a toal of 100 epochs with 100 batches each.\n",
      "|----Epoch 65.0 : Loss of the current batch 5.1894\n",
      "Epoch 65 : Average Loss per Batch 5.3868\n",
      "Running the model for a toal of 100 epochs with 100 batches each.\n",
      "|----Epoch 66.0 : Loss of the current batch 4.7130\n",
      "Epoch 66 : Average Loss per Batch 5.3408\n",
      "Running the model for a toal of 100 epochs with 100 batches each.\n",
      "|----Epoch 67.0 : Loss of the current batch 5.5056\n",
      "Epoch 67 : Average Loss per Batch 5.3313\n",
      "Running the model for a toal of 100 epochs with 100 batches each.\n",
      "|----Epoch 68.0 : Loss of the current batch 5.2758\n",
      "Epoch 68 : Average Loss per Batch 5.3916\n",
      "Running the model for a toal of 100 epochs with 100 batches each.\n",
      "|----Epoch 69.0 : Loss of the current batch 4.6490\n",
      "Epoch 69 : Average Loss per Batch 5.3156\n",
      "Running the model for a toal of 100 epochs with 100 batches each.\n",
      "|----Epoch 70.0 : Loss of the current batch 5.6290\n",
      "Epoch 70 : Average Loss per Batch 5.3077\n",
      "Running the model for a toal of 100 epochs with 100 batches each.\n",
      "|----Epoch 71.0 : Loss of the current batch 5.3378\n",
      "Epoch 71 : Average Loss per Batch 5.2441\n",
      "Running the model for a toal of 100 epochs with 100 batches each.\n",
      "|----Epoch 72.0 : Loss of the current batch 4.9689\n",
      "Epoch 72 : Average Loss per Batch 5.2967\n",
      "Running the model for a toal of 100 epochs with 100 batches each.\n",
      "|----Epoch 73.0 : Loss of the current batch 5.1575\n",
      "Epoch 73 : Average Loss per Batch 5.2767\n",
      "Running the model for a toal of 100 epochs with 100 batches each.\n",
      "|----Epoch 74.0 : Loss of the current batch 5.2406\n",
      "Epoch 74 : Average Loss per Batch 5.2151\n",
      "Running the model for a toal of 100 epochs with 100 batches each.\n",
      "|----Epoch 75.0 : Loss of the current batch 5.0669\n",
      "Epoch 75 : Average Loss per Batch 5.2779\n",
      "Running the model for a toal of 100 epochs with 100 batches each.\n",
      "|----Epoch 76.0 : Loss of the current batch 4.9604\n",
      "Epoch 76 : Average Loss per Batch 5.3211\n",
      "Running the model for a toal of 100 epochs with 100 batches each.\n",
      "|----Epoch 77.0 : Loss of the current batch 5.2135\n",
      "Epoch 77 : Average Loss per Batch 5.2230\n",
      "Running the model for a toal of 100 epochs with 100 batches each.\n",
      "|----Epoch 78.0 : Loss of the current batch 4.7537\n",
      "Epoch 78 : Average Loss per Batch 5.3082\n",
      "Running the model for a toal of 100 epochs with 100 batches each.\n",
      "|----Epoch 79.0 : Loss of the current batch 5.6218\n",
      "Epoch 79 : Average Loss per Batch 5.2922\n",
      "Running the model for a toal of 100 epochs with 100 batches each.\n",
      "|----Epoch 80.0 : Loss of the current batch 4.6179\n",
      "Epoch 80 : Average Loss per Batch 5.1799\n",
      "Running the model for a toal of 100 epochs with 100 batches each.\n",
      "|----Epoch 81.0 : Loss of the current batch 5.3395\n",
      "Epoch 81 : Average Loss per Batch 5.1817\n",
      "Running the model for a toal of 100 epochs with 100 batches each.\n",
      "|----Epoch 82.0 : Loss of the current batch 5.2039\n",
      "Epoch 82 : Average Loss per Batch 5.2086\n",
      "Running the model for a toal of 100 epochs with 100 batches each.\n",
      "|----Epoch 83.0 : Loss of the current batch 5.5326\n",
      "Epoch 83 : Average Loss per Batch 5.2429\n",
      "Running the model for a toal of 100 epochs with 100 batches each.\n",
      "|----Epoch 84.0 : Loss of the current batch 5.9127\n",
      "Epoch 84 : Average Loss per Batch 5.1813\n",
      "Running the model for a toal of 100 epochs with 100 batches each.\n",
      "|----Epoch 85.0 : Loss of the current batch 5.0341\n",
      "Epoch 85 : Average Loss per Batch 5.2347\n",
      "Running the model for a toal of 100 epochs with 100 batches each.\n",
      "|----Epoch 86.0 : Loss of the current batch 4.5722\n",
      "Epoch 86 : Average Loss per Batch 5.1945\n",
      "Running the model for a toal of 100 epochs with 100 batches each.\n",
      "|----Epoch 87.0 : Loss of the current batch 5.1787\n",
      "Epoch 87 : Average Loss per Batch 5.2507\n",
      "Running the model for a toal of 100 epochs with 100 batches each.\n",
      "|----Epoch 88.0 : Loss of the current batch 5.2758\n",
      "Epoch 88 : Average Loss per Batch 5.2457\n",
      "Running the model for a toal of 100 epochs with 100 batches each.\n",
      "|----Epoch 89.0 : Loss of the current batch 5.2909\n",
      "Epoch 89 : Average Loss per Batch 5.1810\n",
      "Running the model for a toal of 100 epochs with 100 batches each.\n",
      "|----Epoch 90.0 : Loss of the current batch 5.6038\n",
      "Epoch 90 : Average Loss per Batch 5.2830\n",
      "Running the model for a toal of 100 epochs with 100 batches each.\n",
      "|----Epoch 91.0 : Loss of the current batch 5.2220\n",
      "Epoch 91 : Average Loss per Batch 5.2187\n",
      "Running the model for a toal of 100 epochs with 100 batches each.\n",
      "|----Epoch 92.0 : Loss of the current batch 5.3157\n",
      "Epoch 92 : Average Loss per Batch 5.2178\n",
      "Running the model for a toal of 100 epochs with 100 batches each.\n",
      "|----Epoch 93.0 : Loss of the current batch 4.9043\n",
      "Epoch 93 : Average Loss per Batch 5.1621\n",
      "Running the model for a toal of 100 epochs with 100 batches each.\n",
      "|----Epoch 94.0 : Loss of the current batch 5.4948\n",
      "Epoch 94 : Average Loss per Batch 5.2006\n",
      "Running the model for a toal of 100 epochs with 100 batches each.\n",
      "|----Epoch 95.0 : Loss of the current batch 6.3259\n",
      "Epoch 95 : Average Loss per Batch 5.1840\n",
      "Running the model for a toal of 100 epochs with 100 batches each.\n",
      "|----Epoch 96.0 : Loss of the current batch 6.6256\n",
      "Epoch 96 : Average Loss per Batch 5.1139\n",
      "Running the model for a toal of 100 epochs with 100 batches each.\n",
      "|----Epoch 97.0 : Loss of the current batch 5.1067\n",
      "Epoch 97 : Average Loss per Batch 5.1326\n",
      "Running the model for a toal of 100 epochs with 100 batches each.\n",
      "|----Epoch 98.0 : Loss of the current batch 5.2427\n",
      "Epoch 98 : Average Loss per Batch 5.1825\n",
      "Running the model for a toal of 100 epochs with 100 batches each.\n",
      "|----Epoch 99.0 : Loss of the current batch 4.6081\n",
      "Epoch 99 : Average Loss per Batch 5.1181\n"
     ]
    }
   ],
   "source": [
    "model = MachineTranslator(vocab_size, seq_len, n_embd, n_heads, n_layers, expansion_factor, dropout).to(device)\n",
    "criterion = nn.CrossEntropyLoss(ignore_index=mbart_tokenizer.pad_token_id)\n",
    "optimizer = optim.Adam(\n",
    "    model.parameters(),\n",
    "      lr=learning_rate,\n",
    "      betas=(0.9, 0.98),\n",
    "      eps=1e-9\n",
    ")\n",
    "num_batches = 100\n",
    "print(f\"Running the model for a toal of {epochs} epochs with {num_batches} batches each.\")\n",
    "for i in range(epochs):\n",
    "    epoch_loss = 0\n",
    "    for batch_i in range(num_batches):\n",
    "        batch = get_batch(train_tokens, batch_size)\n",
    "        \n",
    "        encoder_input = batch['input_ids'].to(device)\n",
    "        target_ids = batch['labels'].to(device)\n",
    "        decoder_input = torch.zeros(target_ids.shape)\n",
    "        # decoder's input is right shift by one token as given in paper, the first token is set as the start token from our tokenizer\n",
    "        decoder_input[:, 0] = mbart_tokenizer.lang_code_to_id[mbart_tokenizer.tgt_lang]\n",
    "        decoder_input[:, 1:] = target_ids[:, :-1]\n",
    "        decoder_input = decoder_input.long()\n",
    "        \n",
    "        optimizer.zero_grad()\n",
    "        logits = model(encoder_input, decoder_input)\n",
    "        logits = logits.view(-1, logits.size(-1))  \n",
    "        target_ids = target_ids.view(-1) \n",
    "        loss = criterion(logits, target_ids)\n",
    "        loss.backward()\n",
    "        optimizer.step()\n",
    "        torch.cuda.empty_cache()\n",
    "        epoch_loss += loss.item()\n",
    "        if batch_i % 100 == 0:\n",
    "            print(f\"|----Epoch {i}.{batch_i} : Loss of the current batch {loss.item():.4f}\")\n",
    "    print(f\"Epoch {i} : Average Loss per Batch {epoch_loss / num_batches:.4f}\")"
   ]
  },
  {
   "cell_type": "markdown",
   "metadata": {},
   "source": [
    "## Save"
   ]
  },
  {
   "cell_type": "code",
   "execution_count": 27,
   "metadata": {
    "execution": {
     "iopub.execute_input": "2025-05-17T15:52:45.624109Z",
     "iopub.status.busy": "2025-05-17T15:52:45.623890Z",
     "iopub.status.idle": "2025-05-17T15:52:48.939738Z",
     "shell.execute_reply": "2025-05-17T15:52:48.939151Z",
     "shell.execute_reply.started": "2025-05-17T15:52:45.624092Z"
    },
    "trusted": true
   },
   "outputs": [],
   "source": [
    "torch.save(model.state_dict(), \"model_weights.pth\")"
   ]
  },
  {
   "cell_type": "markdown",
   "metadata": {},
   "source": [
    "## Load model\n",
    "I have uploaded the model to Kaggle models so as to fetch it easily even when I restart the session."
   ]
  },
  {
   "cell_type": "code",
   "execution_count": 25,
   "metadata": {
    "execution": {
     "iopub.execute_input": "2025-05-27T15:52:49.633136Z",
     "iopub.status.busy": "2025-05-27T15:52:49.632864Z",
     "iopub.status.idle": "2025-05-27T15:53:03.023963Z",
     "shell.execute_reply": "2025-05-27T15:53:03.023346Z",
     "shell.execute_reply.started": "2025-05-27T15:52:49.633117Z"
    },
    "trusted": true
   },
   "outputs": [
    {
     "data": {
      "text/plain": [
       "MachineTranslator(\n",
       "  (encoder): Encoder(\n",
       "    (te): TokenEmbeddings(\n",
       "      (embedder): Embedding(250027, 512)\n",
       "    )\n",
       "    (TransformerStack): ModuleList(\n",
       "      (0-5): 6 x TransformerBlock(\n",
       "        (mha): MultiHeadAttention(\n",
       "          (heads): ModuleList(\n",
       "            (0-7): 8 x Attention(\n",
       "              (q): Linear(in_features=64, out_features=64, bias=True)\n",
       "              (k): Linear(in_features=64, out_features=64, bias=True)\n",
       "              (v): Linear(in_features=64, out_features=64, bias=True)\n",
       "            )\n",
       "          )\n",
       "          (proj): Linear(in_features=512, out_features=512, bias=True)\n",
       "        )\n",
       "        (norm1): LayerNorm((512,), eps=1e-05, elementwise_affine=True)\n",
       "        (norm2): LayerNorm((512,), eps=1e-05, elementwise_affine=True)\n",
       "        (dropout): Dropout(p=0.1, inplace=False)\n",
       "        (feedforward): Sequential(\n",
       "          (0): Linear(in_features=512, out_features=2048, bias=False)\n",
       "          (1): GELU(approximate='none')\n",
       "          (2): Linear(in_features=2048, out_features=512, bias=False)\n",
       "        )\n",
       "      )\n",
       "    )\n",
       "  )\n",
       "  (decoder): Decoder(\n",
       "    (te): TokenEmbeddings(\n",
       "      (embedder): Embedding(250027, 512)\n",
       "    )\n",
       "    (DecoderStack): ModuleList(\n",
       "      (0-5): 6 x DecoderBlock(\n",
       "        (norm): LayerNorm((512,), eps=1e-05, elementwise_affine=True)\n",
       "        (dropout): Dropout(p=0.1, inplace=False)\n",
       "        (masked_attention): MultiHeadAttention(\n",
       "          (heads): ModuleList(\n",
       "            (0-7): 8 x Attention(\n",
       "              (q): Linear(in_features=64, out_features=64, bias=True)\n",
       "              (k): Linear(in_features=64, out_features=64, bias=True)\n",
       "              (v): Linear(in_features=64, out_features=64, bias=True)\n",
       "            )\n",
       "          )\n",
       "          (proj): Linear(in_features=512, out_features=512, bias=True)\n",
       "        )\n",
       "        (Transformer): TransformerBlock(\n",
       "          (mha): MultiHeadAttention(\n",
       "            (heads): ModuleList(\n",
       "              (0-7): 8 x Attention(\n",
       "                (q): Linear(in_features=64, out_features=64, bias=True)\n",
       "                (k): Linear(in_features=64, out_features=64, bias=True)\n",
       "                (v): Linear(in_features=64, out_features=64, bias=True)\n",
       "              )\n",
       "            )\n",
       "            (proj): Linear(in_features=512, out_features=512, bias=True)\n",
       "          )\n",
       "          (norm1): LayerNorm((512,), eps=1e-05, elementwise_affine=True)\n",
       "          (norm2): LayerNorm((512,), eps=1e-05, elementwise_affine=True)\n",
       "          (dropout): Dropout(p=0.1, inplace=False)\n",
       "          (feedforward): Sequential(\n",
       "            (0): Linear(in_features=512, out_features=2048, bias=False)\n",
       "            (1): GELU(approximate='none')\n",
       "            (2): Linear(in_features=2048, out_features=512, bias=False)\n",
       "          )\n",
       "        )\n",
       "      )\n",
       "    )\n",
       "  )\n",
       "  (final_linear): Linear(in_features=512, out_features=250027, bias=True)\n",
       ")"
      ]
     },
     "execution_count": 25,
     "metadata": {},
     "output_type": "execute_result"
    }
   ],
   "source": [
    "model = MachineTranslator(vocab_size, seq_len, n_embd, n_heads, n_layers, expansion_factor, dropout).to(device)\n",
    "model.load_state_dict(torch.load(\"../input/attention-is-all-you-need/pytorch/default/1/model_weights.pth\"))\n",
    "model"
   ]
  },
  {
   "cell_type": "markdown",
   "metadata": {},
   "source": [
    "## Model Inference"
   ]
  },
  {
   "cell_type": "code",
   "execution_count": 96,
   "metadata": {
    "execution": {
     "iopub.execute_input": "2025-05-27T16:43:34.143974Z",
     "iopub.status.busy": "2025-05-27T16:43:34.143408Z",
     "iopub.status.idle": "2025-05-27T16:43:34.149732Z",
     "shell.execute_reply": "2025-05-27T16:43:34.148893Z",
     "shell.execute_reply.started": "2025-05-27T16:43:34.143948Z"
    },
    "trusted": true
   },
   "outputs": [],
   "source": [
    "def decode_batch(batch: dict, tokenizer):\n",
    "    input_ids = batch['input_ids']\n",
    "    labels = batch['labels']\n",
    "    attention_mask = batch['attention_mask']\n",
    "    batch_len = len(input_ids)\n",
    "    seq_len = len(input_ids[0])\n",
    "    ans = []\n",
    "    for i in range(batch_len):\n",
    "        en = \"\"\n",
    "        de = \"\"\n",
    "        input_ids_filtered = [ID for ID, mask in zip(input_ids[i], attention_mask[i]) if mask == 1]\n",
    "        input_ids_filtered = [tok_id for tok_id, mask in zip(input_ids[i], attention_mask[i]) if mask == 1]\n",
    "        labels_filtered = [label for label in labels[i] if label != 1] \n",
    "        \n",
    "        en += mbart_tokenizer.decode(input_ids_filtered, skip_special_tokens=True)\n",
    "        de += mbart_tokenizer.decode(labels_filtered, skip_special_tokens=True)\n",
    "        ans.append({\"english\": en, \"german\": de})\n",
    "    return ans"
   ]
  },
  {
   "cell_type": "code",
   "execution_count": 123,
   "metadata": {
    "execution": {
     "iopub.execute_input": "2025-05-27T16:50:50.601870Z",
     "iopub.status.busy": "2025-05-27T16:50:50.601326Z",
     "iopub.status.idle": "2025-05-27T16:50:50.605965Z",
     "shell.execute_reply": "2025-05-27T16:50:50.605205Z",
     "shell.execute_reply.started": "2025-05-27T16:50:50.601847Z"
    },
    "trusted": true
   },
   "outputs": [],
   "source": [
    "def generate(model, tokenizer, english_text):\n",
    "    tokens = tokenizer.encode(\n",
    "        english_text,\n",
    "        max_length=seq_len,\n",
    "        padding='max_length',\n",
    "        truncation=True,\n",
    "        return_tensors=\"pt\"\n",
    "    )\n",
    "    output_logits = model(tokens.to(device), tokens.to(device))\n",
    "    output = output_logits.argmax(dim=-1)\n",
    "    return tokenizer.decode(output[0], skip_special_tokens=True)"
   ]
  },
  {
   "cell_type": "markdown",
   "metadata": {},
   "source": [
    "Inference on one of the train data"
   ]
  },
  {
   "cell_type": "code",
   "execution_count": 138,
   "metadata": {
    "execution": {
     "iopub.execute_input": "2025-05-27T16:52:54.811235Z",
     "iopub.status.busy": "2025-05-27T16:52:54.810719Z",
     "iopub.status.idle": "2025-05-27T16:52:54.904224Z",
     "shell.execute_reply": "2025-05-27T16:52:54.903646Z",
     "shell.execute_reply.started": "2025-05-27T16:52:54.811213Z"
    },
    "trusted": true
   },
   "outputs": [
    {
     "name": "stdout",
     "output_type": "stream",
     "text": [
      "english:  In this way we will also be able to speed up matters in surrounding rural areas; it is often forgotten that urban and rural problems in fact go hand in hand.\n",
      "german:  Damit könnten wir auch den sie umgebenden ländlichen Gebieten mehr Entwicklungstempo verleihen. Es wird ja oft vergessen, daß die Probleme der Städte und ländlichen Regionen im Zusammenhang miteinander stehen.\n",
      "translated_german:  ,,enr, diezuglicht,,,, derne,eßt unden-.ee. der. undieren derungeneee.. ist.....te...............\n"
     ]
    }
   ],
   "source": [
    "batch = get_batch(train_tokens, batch_size, len(train_tokens['input_ids']))\n",
    "decoded = decode_batch(batch, mbart_tokenizer)\n",
    "english = decoded[0][\"english\"]\n",
    "german = decoded[0][\"german\"]\n",
    "translated_german = generate(model, mbart_tokenizer, english)\n",
    "print(\"english: \", english)\n",
    "print(\"german: \", german)\n",
    "print(\"translated_german: \", translated_german)"
   ]
  },
  {
   "cell_type": "markdown",
   "metadata": {},
   "source": [
    "Inference on one of the test data"
   ]
  },
  {
   "cell_type": "code",
   "execution_count": 137,
   "metadata": {
    "execution": {
     "iopub.execute_input": "2025-05-27T16:51:44.871441Z",
     "iopub.status.busy": "2025-05-27T16:51:44.870678Z",
     "iopub.status.idle": "2025-05-27T16:51:44.963787Z",
     "shell.execute_reply": "2025-05-27T16:51:44.963191Z",
     "shell.execute_reply.started": "2025-05-27T16:51:44.871416Z"
    },
    "trusted": true
   },
   "outputs": [
    {
     "name": "stdout",
     "output_type": "stream",
     "text": [
      "english:  It is not just horses that can be found and admired on the grounds, but many other animals such as sheep, goats, cows and chickens as well.\n",
      "german:  Nicht nur Pferde, sondern auch viele weitere Tiere wie Schafe, Ziegen, Kühe und Hühner sind auf dem Gelände anzutreffen und zu bestaunen.\n",
      "translated_german:  ,ßt,te,,,,glücke,,,,,, und und ich es und unden und, und die wir, daß die und,tenpräsident...ee...e................\n"
     ]
    }
   ],
   "source": [
    "batch = get_batch(test_tokens, batch_size, len(test_tokens['input_ids']))\n",
    "decoded = decode_batch(batch, mbart_tokenizer)\n",
    "english = decoded[0][\"english\"]\n",
    "german = decoded[0][\"german\"]\n",
    "translated_german = generate(model, mbart_tokenizer, english)\n",
    "print(\"english: \", english)\n",
    "print(\"german: \", german)\n",
    "print(\"translated_german: \", translated_german)"
   ]
  },
  {
   "cell_type": "markdown",
   "metadata": {},
   "source": [
    "## Conclusion\n",
    "\n",
    "I did not do any evaluation tests, but looking at the inference outputs of several samples from train data and test data, I can say the model is performing better on train data. If trained on a lot more number of steps, there is a lot of scope of improvement. The base model in the paper is trained for 100,000 steps on several GPUs, where as this implementation only trained the model for 100 steps on a single GPU and limited RAM on Kaggle. You can always increase the number of training steps and processing resources and check the results. The main aim of this implementation is to demonstrate the architecture of the Transformer model as proposed in `Attention is all you need` paper."
   ]
  }
 ],
 "metadata": {
  "kaggle": {
   "accelerator": "gpu",
   "dataSources": [
    {
     "isSourceIdPinned": true,
     "modelId": 358631,
     "modelInstanceId": 337662,
     "sourceId": 413688,
     "sourceType": "modelInstanceVersion"
    }
   ],
   "dockerImageVersionId": 31040,
   "isGpuEnabled": true,
   "isInternetEnabled": true,
   "language": "python",
   "sourceType": "notebook"
  },
  "kernelspec": {
   "display_name": "Python 3",
   "language": "python",
   "name": "python3"
  },
  "language_info": {
   "codemirror_mode": {
    "name": "ipython",
    "version": 3
   },
   "file_extension": ".py",
   "mimetype": "text/x-python",
   "name": "python",
   "nbconvert_exporter": "python",
   "pygments_lexer": "ipython3",
   "version": "3.12.4"
  }
 },
 "nbformat": 4,
 "nbformat_minor": 4
}
